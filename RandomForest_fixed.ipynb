{
  "nbformat": 4,
  "nbformat_minor": 0,
  "metadata": {
    "colab": {
      "provenance": []
    },
    "kernelspec": {
      "name": "python3",
      "display_name": "Python 3"
    },
    "language_info": {
      "name": "python"
    }
  },
  "cells": [
    {
      "cell_type": "code",
      "source": [
        "import pandas as pd\n",
        "import numpy as np"
      ],
      "metadata": {
        "id": "8Y-6j4GzPgr2"
      },
      "execution_count": null,
      "outputs": []
    },
    {
      "cell_type": "code",
      "source": [
        "!unzip open.zip"
      ],
      "metadata": {
        "colab": {
          "base_uri": "https://localhost:8080/"
        },
        "id": "YEtaHhcnjO5b",
        "outputId": "f7b34092-02b3-4fcf-bc25-f8086a5e6163"
      },
      "execution_count": null,
      "outputs": [
        {
          "output_type": "stream",
          "name": "stdout",
          "text": [
            "Archive:  open.zip\n",
            "replace sample_submission.csv? [y]es, [n]o, [A]ll, [N]one, [r]ename: y\n",
            "  inflating: sample_submission.csv   \n",
            "replace test.csv? [y]es, [n]o, [A]ll, [N]one, [r]ename: y\n",
            "  inflating: test.csv                \n",
            "replace train.csv? [y]es, [n]o, [A]ll, [N]one, [r]ename: y\n",
            "  inflating: train.csv               \n"
          ]
        }
      ]
    },
    {
      "cell_type": "code",
      "source": [
        "train_df = pd.read_csv('train.csv')\n",
        "test_df = pd.read_csv('test.csv')"
      ],
      "metadata": {
        "id": "sU-v9xzxjXAp"
      },
      "execution_count": null,
      "outputs": []
    },
    {
      "cell_type": "code",
      "source": [
        "import pandas as pd\n",
        "from sklearn.preprocessing import LabelEncoder\n",
        "from sklearn.ensemble import RandomForestClassifier\n",
        "from sklearn.model_selection import train_test_split\n",
        "from sklearn.metrics import accuracy_score\n",
        "\n",
        "# LabelEncoder로 SUBCLASS를 숫자로 변환\n",
        "label_encoder = LabelEncoder()\n",
        "train_df['SUBCLASS'] = label_encoder.fit_transform(train_df['SUBCLASS'])\n",
        "\n",
        "# 학습된 클래스 확인\n",
        "print(\"LabelEncoder 클래스 매핑 (정수 -> 암종):\")\n",
        "for idx, class_label in enumerate(label_encoder.classes_):\n",
        "    print(f\"{idx} -> {class_label}\")\n",
        "\n",
        "# 모든 값이 'WT'인 열을 제거하는 작업\n",
        "columns_to_drop = [col for col in train_df.columns if (train_df[col] == 'WT').all()]\n",
        "\n",
        "# 열 제거\n",
        "train_df_cleaned = train_df.drop(columns=columns_to_drop)\n",
        "test_df_cleaned = test_df.drop(columns=columns_to_drop)\n",
        "\n",
        "# X, y 분리\n",
        "X = train_df_cleaned.drop(columns=['ID', 'SUBCLASS'])\n",
        "y = train_df_cleaned['SUBCLASS']\n",
        "X_test = test_df_cleaned.drop(columns=['ID'])\n",
        "\n",
        "# 범주형 변이 정보를 LabelEncoder로 처리 (학습 데이터만 인코딩)\n",
        "for col in X.columns:\n",
        "    if X[col].dtype == 'object':\n",
        "        le = LabelEncoder()\n",
        "        X[col] = le.fit_transform(X[col])  # 학습 데이터 인코딩\n",
        "\n",
        "        # 학습 데이터에 있는 값만 인코딩, 테스트 데이터는 그대로 두기\n",
        "        le_classes = set(le.classes_)\n",
        "        X_test[col] = X_test[col].map(lambda x: le.transform([x])[0] if x in le_classes else -1)  # 학습 데이터에 없는 값은 -1로 처리\n",
        "\n",
        "# 학습 및 검증 데이터 분리 (stratify=y로 클래스 균형 유지)\n",
        "X_train, X_val, y_train, y_val = train_test_split(X, y, test_size=0.2, random_state=42, stratify=y)\n",
        "\n",
        "# RandomForest 모델 생성 및 학습\n",
        "rf_clf = RandomForestClassifier(n_estimators=100, random_state=42)\n",
        "rf_clf.fit(X_train, y_train)\n",
        "\n",
        "# 검증 데이터에 대한 예측\n",
        "y_pred_val = rf_clf.predict(X_val)\n",
        "val_accuracy = accuracy_score(y_val, y_pred_val)\n",
        "print(f'Random Forest 검증 데이터 정확도: {val_accuracy}')\n",
        "\n",
        "# 테스트 데이터 예측 (학습 데이터에 없는 변이 값은 -1로 처리됨)\n",
        "y_pred_test = rf_clf.predict(X_test)\n",
        "\n",
        "# LabelEncoder로 학습된 클래스 확인\n",
        "class_mapping = {index: label for index, label in enumerate(label_encoder.classes_)}\n",
        "print(f\"클래스 매핑: {class_mapping}\")\n",
        "\n",
        "# 예측된 정수형 SUBCLASS 값을 원래 암종 이름으로 수동 변환\n",
        "y_pred_test_labels = [class_mapping[pred] for pred in y_pred_test]\n",
        "\n",
        "# 제출 파일 생성 (테스트 데이터에서 학습 데이터에 없는 변이 값은 그대로 유지)\n",
        "submission_df = pd.DataFrame({\n",
        "    'ID': test_df_cleaned['ID'],\n",
        "    'SUBCLASS': y_pred_test_labels  # 원래 SUBCLASS 이름으로 출력\n",
        "})\n",
        "\n",
        "# 제출 파일 생성\n",
        "submission_df.to_csv('submission_random_forest_fixed2.csv', index=False)\n"
      ],
      "metadata": {
        "colab": {
          "base_uri": "https://localhost:8080/"
        },
        "id": "iW_OIjT0PaA3",
        "outputId": "90e28fd5-8006-4167-ab74-53a447a93dac"
      },
      "execution_count": null,
      "outputs": [
        {
          "output_type": "stream",
          "name": "stdout",
          "text": [
            "LabelEncoder 클래스 매핑 (정수 -> 암종):\n",
            "0 -> ACC\n",
            "1 -> BLCA\n",
            "2 -> BRCA\n",
            "3 -> CESC\n",
            "4 -> COAD\n",
            "5 -> DLBC\n",
            "6 -> GBMLGG\n",
            "7 -> HNSC\n",
            "8 -> KIPAN\n",
            "9 -> KIRC\n",
            "10 -> LAML\n",
            "11 -> LGG\n",
            "12 -> LIHC\n",
            "13 -> LUAD\n",
            "14 -> LUSC\n",
            "15 -> OV\n",
            "16 -> PAAD\n",
            "17 -> PCPG\n",
            "18 -> PRAD\n",
            "19 -> SARC\n",
            "20 -> SKCM\n",
            "21 -> STES\n",
            "22 -> TGCT\n",
            "23 -> THCA\n",
            "24 -> THYM\n",
            "25 -> UCEC\n",
            "Random Forest 검증 데이터 정확도: 0.2884770346494762\n",
            "클래스 매핑: {0: 'ACC', 1: 'BLCA', 2: 'BRCA', 3: 'CESC', 4: 'COAD', 5: 'DLBC', 6: 'GBMLGG', 7: 'HNSC', 8: 'KIPAN', 9: 'KIRC', 10: 'LAML', 11: 'LGG', 12: 'LIHC', 13: 'LUAD', 14: 'LUSC', 15: 'OV', 16: 'PAAD', 17: 'PCPG', 18: 'PRAD', 19: 'SARC', 20: 'SKCM', 21: 'STES', 22: 'TGCT', 23: 'THCA', 24: 'THYM', 25: 'UCEC'}\n"
          ]
        }
      ]
    },
    {
      "cell_type": "code",
      "source": [],
      "metadata": {
        "id": "7EyBGNXDUoDq"
      },
      "execution_count": null,
      "outputs": []
    }
  ]
}